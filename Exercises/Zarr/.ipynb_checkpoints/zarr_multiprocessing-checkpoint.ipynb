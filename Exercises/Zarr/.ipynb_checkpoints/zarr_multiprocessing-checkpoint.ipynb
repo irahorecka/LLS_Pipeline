{
 "cells": [
  {
   "cell_type": "markdown",
   "metadata": {},
   "source": [
    "## ZARR COMPRESSION IN A MULTIPROCESSING ENVIRONMENT\n",
    "\n",
    "A notebook to show the simplest form of asynchronous write to a zarr file.<br>\n",
    "This method uses the standard library ```multiprocessing``` to parallelize writing a numpy array to zarr.<br>\n",
    "Look into Dask for a simpler method of parallelizing tasks such as this.\n",
    "\n",
    "\"Parallel computing and synchronization\"<br>\n",
    "https://zarr.readthedocs.io/en/stable/tutorial.html#parallel-computing-and-synchronization\n",
    "\n",
    "Query \"multiprocessing zarr\" in Google for useful discussions"
   ]
  },
  {
   "cell_type": "code",
   "execution_count": 3,
   "metadata": {},
   "outputs": [],
   "source": [
    "# A standard multiprocessing library mated to zarr - a standard example of writing to zarr file using multiprocessing.\n",
    "# View discussion and source code here: https://github.com/zarr-developers/zarr-python/issues/199\n",
    "# View block / hang discussion here: https://github.com/zarr-developers/numcodecs/issues/41\n",
    "# View using Dask for multi-threading here: https://clouds.eos.ubc.ca/~phil/courses/parallel_python/03_dask_and_zarr.html\n",
    "\n",
    "import zarr\n",
    "import numpy as np\n",
    "from pprint import pprint\n",
    "import multiprocessing\n",
    "from zarr import blosc\n",
    "blosc.set_nthreads(20)\n",
    "blosc.use_threads=False  # This must be set to false to prevent locking in the blosc context \n",
    "\n",
    "# look into synchronized zarr API: https://zarr.readthedocs.io/en/stable/api/sync.html\n",
    "synchronizer = zarr.ProcessSynchronizer('example.sync')\n",
    "processed_zarr = zarr.hierarchy.open_group(\"test.zarr\", 'a', synchronizer=synchronizer)\n",
    "\n",
    "features_arr = np.random.random_sample((10000,20))\n",
    "processed_zarr.create_dataset(\"features_arr\", data=features_arr, shape=features_arr.shape, dtype=\"float64\", overwrite=True)\n",
    "\n",
    "ixs = np.arange(processed_zarr[\"features_arr\"].shape[0])\n",
    "slices = np.linspace(0, processed_zarr[\"features_arr\"].shape[0]-1, 100, dtype=np.int32)\n",
    "\n",
    "sliceIter = []\n",
    "for i in range(len(slices)-1):\n",
    "    sliceIter.append({\n",
    "        \"min\" : ixs[slices[i]],\n",
    "        \"max\" : ixs[slices[i+1]],\n",
    "        \"slice_num\" : i,\n",
    "    })\n",
    "# pprint(sliceIter)\n",
    "\n",
    "### slices breakds up the np.arange of processed_zarr[\"features_arr\"] into n number of slices in an np.linspace\n",
    "#\n",
    "def mem_instantiate(param_dict):\n",
    "    min_ix = param_dict[\"min\"]\n",
    "    max_ix = param_dict[\"max\"]\n",
    "    slice_num = param_dict[\"slice_num\"]\n",
    "\n",
    "    ### never gets past loading the features\n",
    "    instantiated_features = processed_zarr[\"features_arr\"][min_ix:max_ix]\n",
    "#     print(slice_num, \"features loaded\")\n",
    "\n",
    "\n",
    "pool = multiprocessing.Pool(processes=5)\n",
    "pool.map(mem_instantiate, sliceIter)\n",
    "pool.close()\n",
    "pool.join()"
   ]
  },
  {
   "cell_type": "code",
   "execution_count": 6,
   "metadata": {},
   "outputs": [],
   "source": [
    "# A standard multiprocessing library mated to zarr - a standard example of writing to zarr file using multiprocessing.\n",
    "# View discussion and source code here: https://github.com/zarr-developers/zarr-python/issues/199\n",
    "# View block / hang discussion here: https://github.com/zarr-developers/numcodecs/issues/41\n",
    "# View using Dask for multi-threading here: https://clouds.eos.ubc.ca/~phil/courses/parallel_python/03_dask_and_zarr.html\n",
    "\n",
    "import zarr\n",
    "import numpy as np\n",
    "from pprint import pprint\n",
    "import multiprocessing\n",
    "import numcodecs\n",
    "from zarr import blosc\n",
    "numcodecs.blosc.set_nthreads(20)\n",
    "numcodecs.blosc.use_threads=False  # This must be set to false to prevent locking in the blosc context \n",
    "\n",
    "# look into synchronized zarr API: https://zarr.readthedocs.io/en/stable/api/sync.html\n",
    "synchronizer = zarr.ProcessSynchronizer('example.sync')\n",
    "processed_zarr = zarr.hierarchy.open_group(\"test.zarr\", 'a', synchronizer=synchronizer)\n",
    "\n",
    "features_arr = np.random.random_sample((10000,20))\n",
    "processed_zarr.create_dataset(\"features_arr\", data=features_arr, shape=features_arr.shape, dtype=\"float64\", overwrite=True)\n",
    "\n",
    "ixs = np.arange(processed_zarr[\"features_arr\"].shape[0])\n",
    "slices = np.linspace(0, processed_zarr[\"features_arr\"].shape[0]-1, 100, dtype=np.int32)\n",
    "\n",
    "sliceIter = []\n",
    "for i in range(len(slices)-1):\n",
    "    sliceIter.append({\n",
    "        \"min\" : ixs[slices[i]],\n",
    "        \"max\" : ixs[slices[i+1]],\n",
    "        \"slice_num\" : i,\n",
    "    })\n",
    "# pprint(sliceIter)\n",
    "\n",
    "### slices breakds up the np.arange of processed_zarr[\"features_arr\"] into n number of slices in an np.linspace\n",
    "#\n",
    "def mem_instantiate(param_dict):\n",
    "    min_ix = param_dict[\"min\"]\n",
    "    max_ix = param_dict[\"max\"]\n",
    "    slice_num = param_dict[\"slice_num\"]\n",
    "\n",
    "    ### never gets past loading the features\n",
    "    instantiated_features = processed_zarr[\"features_arr\"][min_ix:max_ix]\n",
    "#     print(slice_num, \"features loaded\")\n",
    "\n",
    "\n",
    "pool = multiprocessing.Pool(processes=5)\n",
    "pool.map(mem_instantiate, sliceIter)\n",
    "pool.close()\n",
    "pool.join()"
   ]
  },
  {
   "cell_type": "code",
   "execution_count": 1,
   "metadata": {},
   "outputs": [
    {
     "data": {
      "text/plain": [
       "8"
      ]
     },
     "execution_count": 1,
     "metadata": {},
     "output_type": "execute_result"
    }
   ],
   "source": [
    "# Method to count number of CPUs \n",
    "\n",
    "import multiprocessing\n",
    "multiprocessing.cpu_count()"
   ]
  }
 ],
 "metadata": {
  "kernelspec": {
   "display_name": "Python3 (napari)",
   "language": "python",
   "name": "napari"
  },
  "language_info": {
   "codemirror_mode": {
    "name": "ipython",
    "version": 3
   },
   "file_extension": ".py",
   "mimetype": "text/x-python",
   "name": "python",
   "nbconvert_exporter": "python",
   "pygments_lexer": "ipython3",
   "version": "3.7.4"
  }
 },
 "nbformat": 4,
 "nbformat_minor": 4
}
