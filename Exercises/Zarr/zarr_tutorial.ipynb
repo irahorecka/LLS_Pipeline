{
 "cells": [
  {
   "cell_type": "markdown",
   "metadata": {},
   "source": [
    "## A SANDBOX TO UNDERSTAND AND PRACTICE THE ZARR FILE SYSTEMS\n",
    "https://zarr.readthedocs.io/en/stable/tutorial.html#reading-and-writing-data"
   ]
  },
  {
   "cell_type": "code",
   "execution_count": 1,
   "metadata": {},
   "outputs": [],
   "source": [
    "import os\n",
    "import zarr\n",
    "import numpy as np"
   ]
  },
  {
   "cell_type": "code",
   "execution_count": 8,
   "metadata": {},
   "outputs": [],
   "source": [
    "GPU = 'C:\\\\Users\\\\Viz2\\\\python_anaconda3\\\\UCB ABC\\\\demo_napari\\\\GPU'\n",
    "ZARR = 'C:\\\\Users\\\\Viz2\\\\python_anaconda3\\\\UCB ABC\\\\git_clones\\\\LLS_Pipeline\\\\Exercises\\\\Zarr'"
   ]
  },
  {
   "cell_type": "code",
   "execution_count": 9,
   "metadata": {},
   "outputs": [
    {
     "data": {
      "text/plain": [
       "<zarr.core.Array (10000, 10000) int32>"
      ]
     },
     "execution_count": 9,
     "metadata": {},
     "output_type": "execute_result"
    }
   ],
   "source": [
    "#create a zarr file:\n",
    "z = zarr.zeros((10000, 10000), chunks=(1000, 1000), dtype='i4')\n",
    "z"
   ]
  },
  {
   "cell_type": "code",
   "execution_count": 10,
   "metadata": {},
   "outputs": [],
   "source": [
    "#read and write a zarr file\n",
    "#fill entire array with scalar val\n",
    "z[:] = 42"
   ]
  },
  {
   "cell_type": "code",
   "execution_count": 11,
   "metadata": {},
   "outputs": [],
   "source": [
    "#import numpy to manipulate zarr file with precision\n",
    "#more zarr array manipulation\n",
    "z[0, :] = np.arange(10000)\n",
    "z[:, 0] = np.arange(10000)"
   ]
  },
  {
   "cell_type": "code",
   "execution_count": 12,
   "metadata": {},
   "outputs": [
    {
     "data": {
      "text/plain": [
       "array([[   0,    1,    2, ..., 9997, 9998, 9999],\n",
       "       [   1,   42,   42, ...,   42,   42,   42],\n",
       "       [   2,   42,   42, ...,   42,   42,   42],\n",
       "       ...,\n",
       "       [9997,   42,   42, ...,   42,   42,   42],\n",
       "       [9998,   42,   42, ...,   42,   42,   42],\n",
       "       [9999,   42,   42, ...,   42,   42,   42]])"
      ]
     },
     "execution_count": 12,
     "metadata": {},
     "output_type": "execute_result"
    }
   ],
   "source": [
    "z[:]"
   ]
  },
  {
   "cell_type": "markdown",
   "metadata": {},
   "source": [
    "PERSISTENT ARRAYS<br>\n",
    "zarr files are saved with a .zarr extension\n",
    "zarr.convenience.open() is another way to have persistently open\n",
    "zarr files to work with. these files will automatically flush to the disk.\n",
    "No need to close an array."
   ]
  },
  {
   "cell_type": "code",
   "execution_count": 13,
   "metadata": {},
   "outputs": [],
   "source": [
    "os.chdir(ZARR)\n",
    "z1 = zarr.open('data/example.zarr', mode='w', shape=(10000, 10000),\n",
    "                chunks=(1000, 1000), dtype='i4')\n",
    "# from my understanding, z1 is live..."
   ]
  },
  {
   "cell_type": "code",
   "execution_count": 14,
   "metadata": {},
   "outputs": [],
   "source": [
    "z1[:] = 42\n",
    "z1[0, :] = np.arange(10000)\n",
    "z1[:, 0] = np.arange(10000)"
   ]
  },
  {
   "cell_type": "code",
   "execution_count": 15,
   "metadata": {},
   "outputs": [
    {
     "data": {
      "text/plain": [
       "True"
      ]
     },
     "execution_count": 15,
     "metadata": {},
     "output_type": "execute_result"
    }
   ],
   "source": [
    "# read the data and make sure the content is equal to the current\n",
    "# loaded z1 zarr file\n",
    "\n",
    "z2 = zarr.open('data/example.zarr', mode='r')\n",
    "np.all(z1[:] == z2[:])"
   ]
  },
  {
   "cell_type": "markdown",
   "metadata": {},
   "source": [
    "If you are just looking for a fast and convenient way to save NumPy\n",
    "arrays to disk then load back into memory later, the functions \n",
    "zarr.convenience.save() and zarr.convenience.load() may be useful."
   ]
  },
  {
   "cell_type": "code",
   "execution_count": 16,
   "metadata": {},
   "outputs": [
    {
     "data": {
      "text/plain": [
       "array([0, 1, 2, 3, 4, 5, 6, 7, 8, 9])"
      ]
     },
     "execution_count": 16,
     "metadata": {},
     "output_type": "execute_result"
    }
   ],
   "source": [
    "a = np.arange(10)\n",
    "zarr.save('data/example.zarr', a)\n",
    "zarr.load('data/example.zarr')"
   ]
  },
  {
   "cell_type": "code",
   "execution_count": 17,
   "metadata": {},
   "outputs": [
    {
     "data": {
      "text/plain": [
       "(20000, 10000)"
      ]
     },
     "execution_count": 17,
     "metadata": {},
     "output_type": "execute_result"
    }
   ],
   "source": [
    "# RESIZING AND APPENDING\n",
    "# zarr files can be resized and appended easily\n",
    "z = zarr.zeros(shape=(10000, 10000), chunks=(1000, 1000))\n",
    "z[:] = 42\n",
    "z.resize(20000, 10000)\n",
    "z.shape\n",
    "\n",
    "# when resizing, none of the underlying is rearranged or deleted\n",
    "# unless shrunk, then any chunk falling out will be removed"
   ]
  },
  {
   "cell_type": "code",
   "execution_count": 18,
   "metadata": {},
   "outputs": [
    {
     "name": "stdout",
     "output_type": "stream",
     "text": [
      "orig z.shape (10000, 1000)\n",
      "inter z.shape (20000, 1000)\n",
      "new z.shape (20000, 2000)\n"
     ]
    }
   ],
   "source": [
    "#using the append method inherent to the zarr file\n",
    "a = np.arange(10000000, dtype='i4').reshape(10000, 1000)\n",
    "z = zarr.array(a, chunks=(1000, 100))\n",
    "print('orig z.shape', z.shape)\n",
    "z.append(a)\n",
    "print('inter z.shape', z.shape)\n",
    "z.append(np.vstack([a, a]), axis=1)\n",
    "print('new z.shape', z.shape)"
   ]
  },
  {
   "cell_type": "code",
   "execution_count": 19,
   "metadata": {},
   "outputs": [],
   "source": [
    "# COMPRESSOR\n",
    "# num of different compressors can be used with Zarr\n",
    "# reveal different compressors with the compressor keyword arg"
   ]
  },
  {
   "cell_type": "code",
   "execution_count": 20,
   "metadata": {},
   "outputs": [
    {
     "data": {
      "text/plain": [
       "Blosc(cname='zstd', clevel=3, shuffle=BITSHUFFLE, blocksize=0)"
      ]
     },
     "execution_count": 20,
     "metadata": {},
     "output_type": "execute_result"
    }
   ],
   "source": [
    "# use Blosc as the primary compressor (also the default compressor)\n",
    "# use Zstandard algorithm (compression level 3)\n",
    "# bit-shuffle filter applied\n",
    "from numcodecs import Blosc\n",
    "compressor = Blosc(cname='zstd', clevel=3, shuffle=Blosc.BITSHUFFLE)\n",
    "data = np.arange(100000000, dtype='i4').reshape(10000, 10000)\n",
    "z = zarr.array(data, chunks=(1000, 1000), compressor=compressor)\n",
    "z.compressor"
   ]
  },
  {
   "cell_type": "code",
   "execution_count": 21,
   "metadata": {},
   "outputs": [
    {
     "data": {
      "text/html": [
       "<table class=\"zarr-info\"><tbody><tr><th style=\"text-align: left\">Type</th><td style=\"text-align: left\">zarr.core.Array</td></tr><tr><th style=\"text-align: left\">Data type</th><td style=\"text-align: left\">int32</td></tr><tr><th style=\"text-align: left\">Shape</th><td style=\"text-align: left\">(10000, 10000)</td></tr><tr><th style=\"text-align: left\">Chunk shape</th><td style=\"text-align: left\">(1000, 1000)</td></tr><tr><th style=\"text-align: left\">Order</th><td style=\"text-align: left\">C</td></tr><tr><th style=\"text-align: left\">Read-only</th><td style=\"text-align: left\">False</td></tr><tr><th style=\"text-align: left\">Compressor</th><td style=\"text-align: left\">Blosc(cname='zstd', clevel=3, shuffle=BITSHUFFLE, blocksize=0)</td></tr><tr><th style=\"text-align: left\">Store type</th><td style=\"text-align: left\">builtins.dict</td></tr><tr><th style=\"text-align: left\">No. bytes</th><td style=\"text-align: left\">400000000 (381.5M)</td></tr><tr><th style=\"text-align: left\">No. bytes stored</th><td style=\"text-align: left\">3379344 (3.2M)</td></tr><tr><th style=\"text-align: left\">Storage ratio</th><td style=\"text-align: left\">118.4</td></tr><tr><th style=\"text-align: left\">Chunks initialized</th><td style=\"text-align: left\">100/100</td></tr></tbody></table>"
      ],
      "text/plain": [
       "Type               : zarr.core.Array\n",
       "Data type          : int32\n",
       "Shape              : (10000, 10000)\n",
       "Chunk shape        : (1000, 1000)\n",
       "Order              : C\n",
       "Read-only          : False\n",
       "Compressor         : Blosc(cname='zstd', clevel=3, shuffle=BITSHUFFLE,\n",
       "                   : blocksize=0)\n",
       "Store type         : builtins.dict\n",
       "No. bytes          : 400000000 (381.5M)\n",
       "No. bytes stored   : 3379344 (3.2M)\n",
       "Storage ratio      : 118.4\n",
       "Chunks initialized : 100/100"
      ]
     },
     "execution_count": 21,
     "metadata": {},
     "output_type": "execute_result"
    }
   ],
   "source": [
    "# use the info property to print diagnostics of a zarr file\n",
    "z.info"
   ]
  },
  {
   "cell_type": "markdown",
   "metadata": {},
   "source": [
    "Blosc is in fact a “meta-compressor”, which means that it can use\n",
    "a number of different compression algorithms internally to compress\n",
    "the data. Blosc also provides highly optimized implementations of \n",
    "byte- and bit-shuffle filters, which can improve compression ratios\n",
    "for some data. A list of the internal compression libraries available\n",
    "within Blosc can be obtained via:"
   ]
  },
  {
   "cell_type": "code",
   "execution_count": 22,
   "metadata": {},
   "outputs": [
    {
     "data": {
      "text/plain": [
       "['blosclz', 'lz4', 'lz4hc', 'snappy', 'zlib', 'zstd']"
      ]
     },
     "execution_count": 22,
     "metadata": {},
     "output_type": "execute_result"
    }
   ],
   "source": [
    "from numcodecs import blosc\n",
    "blosc.list_compressors()"
   ]
  },
  {
   "cell_type": "code",
   "execution_count": 23,
   "metadata": {},
   "outputs": [
    {
     "data": {
      "text/plain": [
       "Zstd(level=1)"
      ]
     },
     "execution_count": 23,
     "metadata": {},
     "output_type": "execute_result"
    }
   ],
   "source": [
    "# now let's try a Zstandard compression, level 1:\n",
    "from numcodecs import Zstd\n",
    "z = zarr.array(np.arange(100000000, dtype='i4').reshape(10000, 10000),\n",
    "                chunks=(1000, 1000), compressor=Zstd(level=1))\n",
    "z.compressor"
   ]
  },
  {
   "cell_type": "code",
   "execution_count": 24,
   "metadata": {},
   "outputs": [
    {
     "data": {
      "text/plain": [
       "LZMA(format=1, check=-1, preset=None, filters=[{'dist': 4, 'id': 3}, {'id': 33, 'preset': 1}])"
      ]
     },
     "execution_count": 24,
     "metadata": {},
     "output_type": "execute_result"
    }
   ],
   "source": [
    "# now let's see LZMA with a custom filter pipeline, including the intrinsic\n",
    "# delta filter\n",
    "import lzma\n",
    "lzma_filters = [dict(id=lzma.FILTER_DELTA, dist=4),\n",
    "                dict(id=lzma.FILTER_LZMA2, preset=1)]\n",
    "from numcodecs import LZMA\n",
    "compressor = LZMA(filters=lzma_filters)\n",
    "z = zarr.array(np.arange(100000000, dtype='i4').reshape(10000, 10000),\n",
    "               chunks=(1000, 1000), compressor=compressor)\n",
    "z.compressor\n",
    "LZMA(format=1, check=-1, preset=None, filters=[{'dist': 4, 'id': 3}, {'id': 33, 'preset': 1}])"
   ]
  },
  {
   "cell_type": "code",
   "execution_count": 25,
   "metadata": {},
   "outputs": [],
   "source": [
    "\"\"\"\n",
    "The default compressor can be changed by setting the value of \n",
    "the zarr.storage.default_compressor variable, e.g.:\n",
    "\"\"\"\n",
    "import zarr.storage\n",
    "from numcodecs import Zstd, Blosc\n",
    "# switch to using Zstandard\n",
    "zarr.storage.default_compressor = Zstd(level=1)\n",
    "z = zarr.zeros(100000000, chunks=1000000)\n",
    "z.compressor\n",
    "# switch back to Blosc defaults\n",
    "zarr.storage.default_compressor = Blosc()"
   ]
  },
  {
   "cell_type": "code",
   "execution_count": 26,
   "metadata": {},
   "outputs": [
    {
     "data": {
      "text/plain": [
       "True"
      ]
     },
     "execution_count": 26,
     "metadata": {},
     "output_type": "execute_result"
    }
   ],
   "source": [
    "\"\"\"\n",
    "To disable compression, set compressor=None when creating an array, e.g.:\n",
    "\"\"\"\n",
    "z = zarr.zeros(100000000, chunks=1000000, compressor=None)\n",
    "z.compressor is None"
   ]
  },
  {
   "cell_type": "markdown",
   "metadata": {},
   "source": [
    "In some cases, compression can be improved by transforming the data in some way. For example, if nearby values tend to be correlated, then shuffling the bytes within each numerical value or storing the difference between adjacent values may increase compression ratio. Some compressors provide built-in filters that apply transformations to the data prior to compression. For example, the Blosc compressor has built-in implementations of byte- and bit-shuffle filters, and the LZMA compressor has a built-in implementation of a delta filter. However, to provide additional flexibility for implementing and using filters in combination with different compressors, Zarr also provides a mechanism for configuring filters outside of the primary compressor."
   ]
  },
  {
   "cell_type": "code",
   "execution_count": 27,
   "metadata": {},
   "outputs": [
    {
     "data": {
      "text/html": [
       "<table class=\"zarr-info\"><tbody><tr><th style=\"text-align: left\">Type</th><td style=\"text-align: left\">zarr.core.Array</td></tr><tr><th style=\"text-align: left\">Data type</th><td style=\"text-align: left\">int32</td></tr><tr><th style=\"text-align: left\">Shape</th><td style=\"text-align: left\">(10000, 10000)</td></tr><tr><th style=\"text-align: left\">Chunk shape</th><td style=\"text-align: left\">(1000, 1000)</td></tr><tr><th style=\"text-align: left\">Order</th><td style=\"text-align: left\">C</td></tr><tr><th style=\"text-align: left\">Read-only</th><td style=\"text-align: left\">False</td></tr><tr><th style=\"text-align: left\">Filter [0]</th><td style=\"text-align: left\">Delta(dtype='<i4')</td></tr><tr><th style=\"text-align: left\">Compressor</th><td style=\"text-align: left\">Blosc(cname='zstd', clevel=1, shuffle=SHUFFLE, blocksize=0)</td></tr><tr><th style=\"text-align: left\">Store type</th><td style=\"text-align: left\">builtins.dict</td></tr><tr><th style=\"text-align: left\">No. bytes</th><td style=\"text-align: left\">400000000 (381.5M)</td></tr><tr><th style=\"text-align: left\">No. bytes stored</th><td style=\"text-align: left\">1290562 (1.2M)</td></tr><tr><th style=\"text-align: left\">Storage ratio</th><td style=\"text-align: left\">309.9</td></tr><tr><th style=\"text-align: left\">Chunks initialized</th><td style=\"text-align: left\">100/100</td></tr></tbody></table>"
      ],
      "text/plain": [
       "Type               : zarr.core.Array\n",
       "Data type          : int32\n",
       "Shape              : (10000, 10000)\n",
       "Chunk shape        : (1000, 1000)\n",
       "Order              : C\n",
       "Read-only          : False\n",
       "Filter [0]         : Delta(dtype='<i4')\n",
       "Compressor         : Blosc(cname='zstd', clevel=1, shuffle=SHUFFLE, blocksize=0)\n",
       "Store type         : builtins.dict\n",
       "No. bytes          : 400000000 (381.5M)\n",
       "No. bytes stored   : 1290562 (1.2M)\n",
       "Storage ratio      : 309.9\n",
       "Chunks initialized : 100/100"
      ]
     },
     "execution_count": 27,
     "metadata": {},
     "output_type": "execute_result"
    }
   ],
   "source": [
    "# an example using a delta filter with the Blosc compressor\n",
    "from numcodecs import Blosc, Delta\n",
    "filters = [Delta(dtype='i4')]\n",
    "compressor = Blosc(cname='zstd', clevel=1, shuffle=Blosc.SHUFFLE)\n",
    "data = np.arange(100000000, dtype='i4').reshape(10000, 10000)\n",
    "z = zarr.array(data, chunks=(1000, 1000), filters=filters, compressor=compressor)\n",
    "z.info"
   ]
  },
  {
   "cell_type": "markdown",
   "metadata": {},
   "source": [
    "Zarr supports hierarchical organization of arrays via groups. As with arrays, groups can be stored in memory, on disk, or via other storage systems that support a similar interface."
   ]
  },
  {
   "cell_type": "code",
   "execution_count": 28,
   "metadata": {},
   "outputs": [
    {
     "data": {
      "text/plain": [
       "<zarr.hierarchy.Group '/'>"
      ]
     },
     "execution_count": 28,
     "metadata": {},
     "output_type": "execute_result"
    }
   ],
   "source": [
    "root = zarr.group()\n",
    "root"
   ]
  },
  {
   "cell_type": "code",
   "execution_count": 29,
   "metadata": {},
   "outputs": [],
   "source": [
    "# groups have similar APIs to Group class from h5py\n",
    "foo = root.create_group('foo')\n",
    "bar = foo.create_group('bar')"
   ]
  },
  {
   "cell_type": "code",
   "execution_count": 30,
   "metadata": {},
   "outputs": [
    {
     "data": {
      "text/plain": [
       "<zarr.core.Array '/foo/bar/baz' (10000, 10000) int32>"
      ]
     },
     "execution_count": 30,
     "metadata": {},
     "output_type": "execute_result"
    }
   ],
   "source": [
    "# groups can also have arrays\n",
    "z1 = bar.zeros('baz', shape=(10000, 10000), chunks=(1000, 1000), dtype='i4')\n",
    "z1"
   ]
  },
  {
   "cell_type": "code",
   "execution_count": 31,
   "metadata": {},
   "outputs": [
    {
     "data": {
      "text/plain": [
       "<zarr.core.Array '/foo/bar/quux' (10000, 10000) int32>"
      ]
     },
     "execution_count": 31,
     "metadata": {},
     "output_type": "execute_result"
    }
   ],
   "source": [
    "\"\"\"\n",
    "Arrays are known as “datasets” in HDF5 terminology. For compatibility with h5py, Zarr groups also implement the create_dataset() and require_dataset() methods, e.g.:\n",
    "\"\"\"\n",
    "z = bar.create_dataset('quux', shape=(10000, 10000), chunks=(1000,1000), dtype='i4')\n",
    "z"
   ]
  },
  {
   "cell_type": "code",
   "execution_count": 32,
   "metadata": {},
   "outputs": [
    {
     "data": {
      "text/plain": [
       "<zarr.hierarchy.Group '/foo'>"
      ]
     },
     "execution_count": 32,
     "metadata": {},
     "output_type": "execute_result"
    }
   ],
   "source": [
    "# use the suffix notation to access groups\n",
    "root['foo']"
   ]
  },
  {
   "cell_type": "code",
   "execution_count": 33,
   "metadata": {},
   "outputs": [
    {
     "name": "stdout",
     "output_type": "stream",
     "text": [
      "<zarr.hierarchy.Group '/foo/bar'>\n",
      "<zarr.core.Array '/foo/bar/baz' (10000, 10000) int32>\n"
     ]
    }
   ],
   "source": [
    "# use '/' to access multiple levels of the hierarchy in one call\n",
    "print(root['foo/bar'])\n",
    "print(root['foo/bar/baz'])"
   ]
  },
  {
   "cell_type": "code",
   "execution_count": 34,
   "metadata": {},
   "outputs": [
    {
     "name": "stdout",
     "output_type": "stream",
     "text": [
      "/\n",
      " └── foo\n",
      "     └── bar\n",
      "         ├── baz (10000, 10000) int32\n",
      "         └── quux (10000, 10000) int32\n"
     ]
    }
   ],
   "source": [
    "\"\"\"\n",
    "The zarr.hierarchy.Group.tree() method can be used to print a tree representation of the hierarchy, e.g.:\n",
    "\"\"\"\n",
    "print(root.tree())"
   ]
  },
  {
   "cell_type": "code",
   "execution_count": 35,
   "metadata": {},
   "outputs": [
    {
     "name": "stdout",
     "output_type": "stream",
     "text": [
      "<zarr.hierarchy.Group '/'>\n",
      "<zarr.core.Array '/foo/bar/baz' (10000, 10000) int32>\n"
     ]
    }
   ],
   "source": [
    "\"\"\"\n",
    "The zarr.convenience.open() function provides a convenient way to create or re-open a group stored in a directory on the file-system, with sub-groups stored in sub-directories, e.g.:\n",
    "\"\"\"\n",
    "root = zarr.open('data/group.zarr', mode='w')\n",
    "print(root)\n",
    "z = root.zeros('foo/bar/baz', shape=(10000, 10000), chunks=(1000, 1000), dtype='i4')\n",
    "print(z)"
   ]
  },
  {
   "cell_type": "markdown",
   "metadata": {},
   "source": [
    "Array and group diagnostics <br>\n",
    "Diagnostic information about arrays and groups is available via the ```info``` property"
   ]
  },
  {
   "cell_type": "code",
   "execution_count": 36,
   "metadata": {},
   "outputs": [
    {
     "name": "stdout",
     "output_type": "stream",
     "text": [
      "Name        : /\n",
      "Type        : zarr.hierarchy.Group\n",
      "Read-only   : False\n",
      "Store type  : zarr.storage.MemoryStore\n",
      "No. members : 1\n",
      "No. arrays  : 0\n",
      "No. groups  : 1\n",
      "Groups      : foo\n",
      "\n",
      "Name        : /foo\n",
      "Type        : zarr.hierarchy.Group\n",
      "Read-only   : False\n",
      "Store type  : zarr.storage.MemoryStore\n",
      "No. members : 2\n",
      "No. arrays  : 2\n",
      "No. groups  : 0\n",
      "Arrays      : bar, baz\n",
      "\n",
      "Name               : /foo/bar\n",
      "Type               : zarr.core.Array\n",
      "Data type          : int64\n",
      "Shape              : (1000000,)\n",
      "Chunk shape        : (100000,)\n",
      "Order              : C\n",
      "Read-only          : False\n",
      "Compressor         : Blosc(cname='lz4', clevel=5, shuffle=SHUFFLE, blocksize=0)\n",
      "Store type         : zarr.storage.MemoryStore\n",
      "No. bytes          : 8000000 (7.6M)\n",
      "No. bytes stored   : 320\n",
      "Storage ratio      : 25000.0\n",
      "Chunks initialized : 0/10\n",
      "\n",
      "Name               : /foo/baz\n",
      "Type               : zarr.core.Array\n",
      "Data type          : float32\n",
      "Shape              : (1000, 1000)\n",
      "Chunk shape        : (100, 100)\n",
      "Order              : C\n",
      "Read-only          : False\n",
      "Compressor         : Blosc(cname='lz4', clevel=5, shuffle=SHUFFLE, blocksize=0)\n",
      "Store type         : zarr.storage.MemoryStore\n",
      "No. bytes          : 4000000 (3.8M)\n",
      "No. bytes stored   : 23943 (23.4K)\n",
      "Storage ratio      : 167.1\n",
      "Chunks initialized : 100/100\n",
      "\n"
     ]
    }
   ],
   "source": [
    "root = zarr.group()\n",
    "foo = root.create_group('foo')\n",
    "bar = foo.zeros('bar', shape=1000000, chunks=100000, dtype='i8')\n",
    "baz = foo.zeros('baz', shape=(1000, 1000), chunks=(100, 100), dtype='f4')\n",
    "baz[:] = 4.2\n",
    "print(root.info)\n",
    "print(foo.info)\n",
    "print(bar.info)\n",
    "print(baz.info)"
   ]
  },
  {
   "cell_type": "markdown",
   "metadata": {},
   "source": [
    "### User attributes -->\n",
    "all following documentation can be reached via the url at the top of this notebook<br>"
   ]
  },
  {
   "cell_type": "code",
   "execution_count": null,
   "metadata": {},
   "outputs": [],
   "source": []
  }
 ],
 "metadata": {
  "kernelspec": {
   "display_name": "Python3 (napari)",
   "language": "python",
   "name": "napari"
  },
  "language_info": {
   "codemirror_mode": {
    "name": "ipython",
    "version": 3
   },
   "file_extension": ".py",
   "mimetype": "text/x-python",
   "name": "python",
   "nbconvert_exporter": "python",
   "pygments_lexer": "ipython3",
   "version": "3.7.4"
  }
 },
 "nbformat": 4,
 "nbformat_minor": 4
}
