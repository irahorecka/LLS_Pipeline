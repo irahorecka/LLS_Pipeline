{
 "cells": [
  {
   "cell_type": "markdown",
   "metadata": {},
   "source": [
    "### A sequential workflow to load tif images in separate channels and view using napari QT"
   ]
  },
  {
   "cell_type": "code",
   "execution_count": 1,
   "metadata": {},
   "outputs": [],
   "source": [
    "# load qt5 gui magic\n",
    "%gui qt5\n",
    "\n",
    "import warnings\n",
    "warnings.filterwarnings('ignore')\n",
    "# import image read from dask + import napari\n",
    "from dask_image.imread import imread\n",
    "from naparimovie import Movie\n",
    "import napari"
   ]
  },
  {
   "cell_type": "code",
   "execution_count": 2,
   "metadata": {},
   "outputs": [
    {
     "data": {
      "text/html": [
       "<table style=\"border: 2px solid white;\">\n",
       "<tr>\n",
       "<td style=\"vertical-align: top; border: 0px solid white\">\n",
       "<h3 style=\"text-align: left;\">Client</h3>\n",
       "<ul style=\"text-align: left; list-style: none; margin: 0; padding: 0;\">\n",
       "  <li><b>Scheduler: </b>tcp://127.0.0.1:53110</li>\n",
       "  <li><b>Dashboard: </b><a href='http://127.0.0.1:8787/status' target='_blank'>http://127.0.0.1:8787/status</a>\n",
       "</ul>\n",
       "</td>\n",
       "<td style=\"vertical-align: top; border: 0px solid white\">\n",
       "<h3 style=\"text-align: left;\">Cluster</h3>\n",
       "<ul style=\"text-align: left; list-style:none; margin: 0; padding: 0;\">\n",
       "  <li><b>Workers: </b>8</li>\n",
       "  <li><b>Cores: </b>32</li>\n",
       "  <li><b>Memory: </b>548.31 GB</li>\n",
       "</ul>\n",
       "</td>\n",
       "</tr>\n",
       "</table>"
      ],
      "text/plain": [
       "<Client: 'tcp://127.0.0.1:53110' processes=8 threads=32, memory=548.31 GB>"
      ]
     },
     "execution_count": 2,
     "metadata": {},
     "output_type": "execute_result"
    }
   ],
   "source": [
    "# for viewing of dask processes while using the napari gui\n",
    "from dask.distributed import Client\n",
    "client = Client()\n",
    "client"
   ]
  },
  {
   "cell_type": "code",
   "execution_count": 3,
   "metadata": {},
   "outputs": [],
   "source": [
    "# direct path to tif images, separate into two batches via channel search (e.g. ch0)\n",
    "stacks0 = imread('C:\\\\Users\\\\Viz2\\\\python_anaconda3\\\\UCB ABC\\\\demo_napari\\\\GPU\\\\*ch0*.tif')\n",
    "stacks1 = imread('C:\\\\Users\\\\Viz2\\\\python_anaconda3\\\\UCB ABC\\\\demo_napari\\\\GPU\\\\*ch1*.tif')"
   ]
  },
  {
   "cell_type": "code",
   "execution_count": 5,
   "metadata": {},
   "outputs": [],
   "source": [
    "# view nestled images in qt\n",
    "viewer = napari.Viewer(ndisplay=3)  # stack tif images into 3D format\n",
    "layer1 = viewer.add_image(stacks0, scale=(5,1,1), name=\"first channel\", is_pyramid=False,\n",
    "                         colormap='cyan', opacity=.5, blending='additive')\n",
    "layer2 = viewer.add_image(stacks1, scale=(5,1,1), name=\"second channel\", is_pyramid=False,\n",
    "                         colormap='magma', opacity=.7, blending='additive')\n",
    "# viewer.window._qt_window.raise_()\n",
    "movie = Movie(myviewer=viewer)"
   ]
  },
  {
   "cell_type": "code",
   "execution_count": null,
   "metadata": {},
   "outputs": [],
   "source": [
    "movie.make_gif('gif_interactive.gif')"
   ]
  },
  {
   "cell_type": "code",
   "execution_count": null,
   "metadata": {},
   "outputs": [],
   "source": []
  },
  {
   "cell_type": "markdown",
   "metadata": {},
   "source": [
    "### BELOW WAS CREATED IN 2020-02-13 FOR VIEWING ORIGINALLY 125 GB FILE OF TIFF\n",
    "### CONVERT BELOW TO MOVIE AFTER EDITING ON NAPARI\n",
    "\n",
    "-------------------------------------------------------------------------------"
   ]
  },
  {
   "cell_type": "code",
   "execution_count": 1,
   "metadata": {},
   "outputs": [],
   "source": [
    "%gui qt5"
   ]
  },
  {
   "cell_type": "code",
   "execution_count": 6,
   "metadata": {},
   "outputs": [
    {
     "name": "stdout",
     "output_type": "stream",
     "text": [
      "['napari_zarr.py', 'read_zarr.py', 'write_zarr.py', '__pycache__']\n"
     ]
    }
   ],
   "source": [
    "import os\n",
    "os.chdir(r'C:\\Users\\Viz2\\python_anaconda3\\UCB ABC\\git_clones\\LLS_Pipeline\\Modules\\Zarr')\n",
    "print(os.listdir())\n",
    "\n",
    "from dask_image.imread import imread\n",
    "import read_zarr\n",
    "import dask.array as da\n",
    "from naparimovie import Movie\n",
    "import napari\n",
    "zarr_filepath = r'C:\\Users\\Viz2\\python_anaconda3\\UCB ABC\\git_clones\\LLS_Pipeline\\Exercises\\Zarr\\test_mydata.zarr'\n",
    "\n",
    "d = read_zarr.retrieve_zarr(zarr_filepath, 'dask')\n",
    "channel = d.shape.index(min(d.shape))\n",
    "blobs = da.stack(d)\n",
    "viewer = napari.Viewer(ndisplay=3)\n",
    "# viewer = napari.view_image(blobs.astype(float))\n",
    "viewer.add_image(blobs, channel_axis=channel)\n",
    "\n",
    "movie = Movie(myviewer=viewer)"
   ]
  },
  {
   "cell_type": "code",
   "execution_count": 7,
   "metadata": {},
   "outputs": [],
   "source": [
    "movie.make_gif('zarr_interactive.gif')"
   ]
  },
  {
   "cell_type": "markdown",
   "metadata": {},
   "source": [
    "-------------------------------------------------------------------------------------"
   ]
  },
  {
   "cell_type": "code",
   "execution_count": null,
   "metadata": {},
   "outputs": [],
   "source": []
  },
  {
   "cell_type": "code",
   "execution_count": 9,
   "metadata": {},
   "outputs": [
    {
     "ename": "ModuleNotFoundError",
     "evalue": "No module named 'pycuda'",
     "output_type": "error",
     "traceback": [
      "\u001b[1;31m---------------------------------------------------------------------------\u001b[0m",
      "\u001b[1;31mModuleNotFoundError\u001b[0m                       Traceback (most recent call last)",
      "\u001b[1;32m<ipython-input-9-118d7d01dc52>\u001b[0m in \u001b[0;36m<module>\u001b[1;34m\u001b[0m\n\u001b[1;32m----> 1\u001b[1;33m \u001b[1;32mimport\u001b[0m \u001b[0mpycuda\u001b[0m\u001b[1;33m.\u001b[0m\u001b[0mcompiler\u001b[0m \u001b[1;32mas\u001b[0m \u001b[0mcomp\u001b[0m\u001b[1;33m\u001b[0m\u001b[1;33m\u001b[0m\u001b[0m\n\u001b[0m\u001b[0;32m      2\u001b[0m \u001b[1;32mimport\u001b[0m \u001b[0mpycuda\u001b[0m\u001b[1;33m.\u001b[0m\u001b[0mdriver\u001b[0m \u001b[1;32mas\u001b[0m \u001b[0mdrv\u001b[0m\u001b[1;33m\u001b[0m\u001b[1;33m\u001b[0m\u001b[0m\n\u001b[0;32m      3\u001b[0m \u001b[1;32mimport\u001b[0m \u001b[0mnumpy\u001b[0m\u001b[1;33m\u001b[0m\u001b[1;33m\u001b[0m\u001b[0m\n\u001b[0;32m      4\u001b[0m \u001b[1;32mimport\u001b[0m \u001b[0mpycuda\u001b[0m\u001b[1;33m.\u001b[0m\u001b[0mautoinit\u001b[0m\u001b[1;33m\u001b[0m\u001b[1;33m\u001b[0m\u001b[0m\n\u001b[0;32m      5\u001b[0m \u001b[1;33m\u001b[0m\u001b[0m\n",
      "\u001b[1;31mModuleNotFoundError\u001b[0m: No module named 'pycuda'"
     ]
    }
   ],
   "source": [
    "import pycuda.compiler as comp\n",
    "import pycuda.driver as drv\n",
    "import numpy\n",
    "import pycuda.autoinit\n",
    "\n",
    "mod = comp.SourceModule(\"\"\"\n",
    "__global__ void multiply_them(float *dest, float *a, float *b)\n",
    "{\n",
    "  const int i = threadIdx.x;\n",
    "  dest[i] = a[i] * b[i];\n",
    "}\n",
    "\"\"\")\n",
    "\n",
    "multiply_them = mod.get_function(\"multiply_them\")\n",
    "\n",
    "a = numpy.random.randn(400).astype(numpy.float32)\n",
    "b = numpy.random.randn(400).astype(numpy.float32)\n",
    "\n",
    "dest = numpy.zeros_like(a)\n",
    "multiply_them(\n",
    "        drv.Out(dest), drv.In(a), drv.In(b),\n",
    "        block=(400,1,1))\n",
    "\n",
    "print (dest-a*b)"
   ]
  }
 ],
 "metadata": {
  "kernelspec": {
   "display_name": "napari (venv)",
   "language": "python",
   "name": "napari"
  },
  "language_info": {
   "codemirror_mode": {
    "name": "ipython",
    "version": 3
   },
   "file_extension": ".py",
   "mimetype": "text/x-python",
   "name": "python",
   "nbconvert_exporter": "python",
   "pygments_lexer": "ipython3",
   "version": "3.7.4"
  }
 },
 "nbformat": 4,
 "nbformat_minor": 4
}
