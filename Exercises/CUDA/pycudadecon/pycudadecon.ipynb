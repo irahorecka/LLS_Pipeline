{
 "cells": [
  {
   "cell_type": "markdown",
   "metadata": {},
   "source": [
    "# pyCUDAdecon\n",
    "https://github.com/tlambert03/pycudadecon\n",
    "\n",
    "This package provides a python wrapper and convenience functions for cudaDeconv, which is a CUDA/C++ implementation of an accelerated Richardson Lucy Deconvolution algorithm1, suitable for general applications, but designed particularly for stage-scanning light sheet applications such as Lattice Light Sheet. cudaDeconv was originally written by Lin Shao and modified by Dan Milkie, at Janelia Research campus. This package makes use of a cross-platform shared library interface that I wrote for cudaDecon while developing LLSpy (a Lattice light-sheet post-processing utility), that adds a couple additional kernels for affine transformations and camera corrections. The code here is mostly extracted from that package and cleaned up to allow it to be used independently of LLSpy."
   ]
  },
  {
   "cell_type": "code",
   "execution_count": 9,
   "metadata": {},
   "outputs": [],
   "source": [
    "from pycudadecon import decon"
   ]
  },
  {
   "cell_type": "code",
   "execution_count": 10,
   "metadata": {},
   "outputs": [],
   "source": [
    "# This notebook is for use in the Viz2 computer (Windows 10)\n",
    "# Deconvolute one tif image with appropriate psf tif file\n",
    "\n",
    "image_path = \"C:\\\\Users\\\\Viz2\\\\python_anaconda3\\\\UCB ABC\\\\demo_napari\\\\sandbox\\\\GPU\\\\Scan_Iter_0000_CamA_ch0_CAM1_stack0000_488nm_0000000msec_0016966725msecAbs_000x_000y_000z_0000t.tif\"\n",
    "psf_path = \"C:\\\\Users\\\\Viz2\\\\python_anaconda3\\\\UCB ABC\\\\demo_napari\\\\sandbox\\\\GPU\\\\PSF\\\\488nm.tif\"\n",
    "result = decon(image_path, psf_path)"
   ]
  },
  {
   "cell_type": "code",
   "execution_count": 14,
   "metadata": {},
   "outputs": [],
   "source": [
    "# load qt5 gui magic\n",
    "\n",
    "%gui qt5"
   ]
  },
  {
   "cell_type": "code",
   "execution_count": 22,
   "metadata": {},
   "outputs": [
    {
     "data": {
      "text/plain": [
       "<napari.viewer.Viewer at 0x1bd92a1ebc8>"
      ]
     },
     "execution_count": 22,
     "metadata": {},
     "output_type": "execute_result"
    }
   ],
   "source": [
    "# View the deconvoluted tif image (result)\n",
    "\n",
    "from dask_image.imread import imread\n",
    "import napari\n",
    "napari.view_image(result)"
   ]
  },
  {
   "cell_type": "code",
   "execution_count": 21,
   "metadata": {},
   "outputs": [],
   "source": [
    "# View non-deconvoluted tif image (stack)\n",
    "\n",
    "stack = imread(image_path)\n",
    "v = napari.Viewer(ndisplay=3)\n",
    "layer1=v.add_image(stack)"
   ]
  }
 ],
 "metadata": {
  "kernelspec": {
   "display_name": "napari (venv)",
   "language": "python",
   "name": "napari"
  },
  "language_info": {
   "codemirror_mode": {
    "name": "ipython",
    "version": 3
   },
   "file_extension": ".py",
   "mimetype": "text/x-python",
   "name": "python",
   "nbconvert_exporter": "python",
   "pygments_lexer": "ipython3",
   "version": "3.7.4"
  }
 },
 "nbformat": 4,
 "nbformat_minor": 4
}
